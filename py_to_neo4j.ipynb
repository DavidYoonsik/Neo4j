{
 "cells": [
  {
   "cell_type": "code",
   "execution_count": 5,
   "metadata": {},
   "outputs": [],
   "source": [
    "from neo4j import GraphDatabase"
   ]
  },
  {
   "cell_type": "code",
   "execution_count": 7,
   "metadata": {},
   "outputs": [],
   "source": [
    "session = GraphDatabase.driver(\"bolt://192.168.2.12:7687\", auth=(\"neo4j\", \"admin\"))"
   ]
  },
  {
   "cell_type": "code",
   "execution_count": 79,
   "metadata": {},
   "outputs": [],
   "source": [
    "#cmd = \"MATCH (cloudAtlas {title: 'Cloud Atlas'})<-[:DIRECTED]-(directors) RETURN directors.name\"\n",
    "#cmd = \"MATCH (bacon:Person {name:'Kevin Bacon'})-[*1..4]-(hollywood) RETURN hollywood.title, hollywood.name\"\n",
    "cmd = \"match (m:Movie)<-[:ACTED_IN]-(a:Person) return m.title as movie, collect(a.name) as cast limit 200\"\n",
    "\n",
    "nodes, rels = [], []\n",
    "i = 0\n",
    "\n",
    "def print_friends_of(tx, cmd):\n",
    "    global i\n",
    "    for record in tx.run(cmd):\n",
    "        print(record)\n",
    "        #print(record['hollywood.title'], record[\"hollywood.name\"])\n",
    "        \n",
    "        nodes.append(\n",
    "            {\n",
    "                \"title\": record[\"movie\"],\n",
    "                \"label\": \"movie\"\n",
    "            }\n",
    "        )\n",
    "        \n",
    "        target = i\n",
    "        i += 1\n",
    "        \n",
    "        for name in record['cast']:\n",
    "            actor = {\n",
    "                \"title\": name,\n",
    "                \"label\": \"actor\"\n",
    "            }\n",
    "            \n",
    "            try:\n",
    "                source = nodes.index(actor)\n",
    "            except Exception as e:\n",
    "                nodes.append(actor)\n",
    "                source = i\n",
    "                i += 1\n",
    "            \n",
    "            rels.append(\n",
    "                {\n",
    "                    \"source\": source,\n",
    "                    \"target\": target\n",
    "                }\n",
    "            )\n",
    "    \n",
    "    print({\"nodes\": nodes, \"links\": rels})"
   ]
  },
  {
   "cell_type": "code",
   "execution_count": 80,
   "metadata": {
    "scrolled": false
   },
   "outputs": [
    {
     "name": "stdout",
     "output_type": "stream",
     "text": [
      "<Record movie='The Matrix' cast=['Emil Eifrem', 'Hugo Weaving', 'Laurence Fishburne', 'Carrie-Anne Moss', 'Keanu Reeves']>\n",
      "<Record movie='The Matrix Reloaded' cast=['Hugo Weaving', 'Laurence Fishburne', 'Carrie-Anne Moss', 'Keanu Reeves']>\n",
      "<Record movie='The Matrix Revolutions' cast=['Hugo Weaving', 'Laurence Fishburne', 'Carrie-Anne Moss', 'Keanu Reeves']>\n",
      "<Record movie=\"The Devil's Advocate\" cast=['Al Pacino', 'Charlize Theron', 'Keanu Reeves']>\n",
      "<Record movie='A Few Good Men' cast=['James Marshall', 'Kevin Pollak', 'J.T. Walsh', 'Aaron Sorkin', 'Cuba Gooding Jr.', 'Christopher Guest', 'Noah Wyle', 'Kiefer Sutherland', 'Kevin Bacon', 'Demi Moore', 'Jack Nicholson', 'Tom Cruise']>\n",
      "<Record movie='Top Gun' cast=['Val Kilmer', 'Meg Ryan', 'Tom Skerritt', 'Kelly McGillis', 'Tom Cruise', 'Anthony Edwards']>\n",
      "<Record movie='Jerry Maguire' cast=[\"Jerry O'Connell\", 'Bonnie Hunt', 'Jay Mohr', 'Cuba Gooding Jr.', 'Jonathan Lipnicki', 'Renee Zellweger', 'Kelly Preston', 'Regina King', 'Tom Cruise']>\n",
      "<Record movie='Stand By Me' cast=[\"Jerry O'Connell\", 'River Phoenix', 'Marshall Bell', 'Wil Wheaton', 'Kiefer Sutherland', 'John Cusack', 'Corey Feldman']>\n",
      "<Record movie='As Good as It Gets' cast=['Helen Hunt', 'Jack Nicholson', 'Cuba Gooding Jr.', 'Greg Kinnear']>\n",
      "<Record movie='What Dreams May Come' cast=['Robin Williams', 'Cuba Gooding Jr.', 'Max von Sydow', 'Werner Herzog', 'Annabella Sciorra']>\n",
      "<Record movie='Snow Falling on Cedars' cast=['Ethan Hawke', 'Rick Yune', 'Max von Sydow', 'James Cromwell']>\n",
      "<Record movie=\"You've Got Mail\" cast=['Tom Hanks', 'Parker Posey', 'Greg Kinnear', 'Meg Ryan', 'Steve Zahn', 'Dave Chappelle']>\n",
      "<Record movie='Sleepless in Seattle' cast=['Meg Ryan', 'Victor Garber', 'Tom Hanks', 'Bill Pullman', 'Rita Wilson', \"Rosie O'Donnell\"]>\n",
      "<Record movie='Joe Versus the Volcano' cast=['Tom Hanks', 'Nathan Lane', 'Meg Ryan']>\n",
      "<Record movie='When Harry Met Sally' cast=['Carrie Fisher', 'Billy Crystal', 'Bruno Kirby', 'Meg Ryan']>\n",
      "<Record movie='That Thing You Do' cast=['Tom Hanks', 'Liv Tyler', 'Charlize Theron']>\n",
      "<Record movie='The Replacements' cast=['Brooke Langton', 'Keanu Reeves', 'Orlando Jones', 'Gene Hackman']>\n",
      "<Record movie='RescueDawn' cast=['Zach Grenier', 'Steve Zahn', 'Christian Bale', 'Marshall Bell']>\n",
      "<Record movie='The Birdcage' cast=['Robin Williams', 'Nathan Lane', 'Gene Hackman']>\n",
      "<Record movie='Unforgiven' cast=['Clint Eastwood', 'Gene Hackman', 'Richard Harris']>\n",
      "<Record movie='Johnny Mnemonic' cast=['Ice-T', 'Dina Meyer', 'Keanu Reeves', 'Takeshi Kitano']>\n",
      "<Record movie='Cloud Atlas' cast=['Tom Hanks', 'Jim Broadbent', 'Halle Berry', 'Hugo Weaving']>\n",
      "<Record movie='The Da Vinci Code' cast=['Tom Hanks', 'Ian McKellen', 'Audrey Tautou', 'Paul Bettany']>\n",
      "<Record movie='V for Vendetta' cast=['John Hurt', 'Stephen Rea', 'Natalie Portman', 'Hugo Weaving', 'Ben Miles']>\n",
      "<Record movie='Speed Racer' cast=['Emile Hirsch', 'Rain', 'Christina Ricci', 'Ben Miles', 'Susan Sarandon', 'John Goodman', 'Matthew Fox']>\n",
      "<Record movie='Ninja Assassin' cast=['Rain', 'Ben Miles', 'Rick Yune', 'Naomie Harris']>\n",
      "<Record movie='The Green Mile' cast=['Sam Rockwell', 'Bonnie Hunt', 'Patricia Clarkson', 'James Cromwell', 'Tom Hanks', 'Michael Clarke Duncan', 'David Morse', 'Gary Sinise']>\n",
      "<Record movie='Frost/Nixon' cast=['Sam Rockwell', 'Michael Sheen', 'Frank Langella', 'Oliver Platt', 'Kevin Bacon']>\n",
      "<Record movie='Hoffa' cast=['John C. Reilly', 'Danny DeVito', 'J.T. Walsh', 'Jack Nicholson']>\n",
      "<Record movie='Apollo 13' cast=['Tom Hanks', 'Ed Harris', 'Gary Sinise', 'Kevin Bacon', 'Bill Paxton']>\n",
      "<Record movie='Twister' cast=['Helen Hunt', 'Bill Paxton', 'Philip Seymour Hoffman', 'Zach Grenier']>\n",
      "<Record movie='Cast Away' cast=['Helen Hunt', 'Tom Hanks']>\n",
      "<Record movie=\"One Flew Over the Cuckoo's Nest\" cast=['Danny DeVito', 'Jack Nicholson']>\n",
      "<Record movie=\"Something's Gotta Give\" cast=['Keanu Reeves', 'Diane Keaton', 'Jack Nicholson']>\n",
      "<Record movie='Bicentennial Man' cast=['Robin Williams', 'Oliver Platt']>\n",
      "<Record movie=\"Charlie Wilson's War\" cast=['Julia Roberts', 'Tom Hanks', 'Philip Seymour Hoffman']>\n",
      "<Record movie='The Polar Express' cast=['Tom Hanks']>\n",
      "<Record movie='A League of Their Own' cast=['Tom Hanks', 'Madonna', \"Rosie O'Donnell\", 'Geena Davis', 'Bill Paxton', 'Lori Petty']>\n",
      "{'links': [{'source': 1, 'target': 0}, {'source': 2, 'target': 0}, {'source': 3, 'target': 0}, {'source': 4, 'target': 0}, {'source': 5, 'target': 0}, {'source': 2, 'target': 6}, {'source': 3, 'target': 6}, {'source': 4, 'target': 6}, {'source': 5, 'target': 6}, {'source': 2, 'target': 7}, {'source': 3, 'target': 7}, {'source': 4, 'target': 7}, {'source': 5, 'target': 7}, {'source': 9, 'target': 8}, {'source': 10, 'target': 8}, {'source': 5, 'target': 8}, {'source': 12, 'target': 11}, {'source': 13, 'target': 11}, {'source': 14, 'target': 11}, {'source': 15, 'target': 11}, {'source': 16, 'target': 11}, {'source': 17, 'target': 11}, {'source': 18, 'target': 11}, {'source': 19, 'target': 11}, {'source': 20, 'target': 11}, {'source': 21, 'target': 11}, {'source': 22, 'target': 11}, {'source': 23, 'target': 11}, {'source': 25, 'target': 24}, {'source': 26, 'target': 24}, {'source': 27, 'target': 24}, {'source': 28, 'target': 24}, {'source': 23, 'target': 24}, {'source': 29, 'target': 24}, {'source': 31, 'target': 30}, {'source': 32, 'target': 30}, {'source': 33, 'target': 30}, {'source': 16, 'target': 30}, {'source': 34, 'target': 30}, {'source': 35, 'target': 30}, {'source': 36, 'target': 30}, {'source': 37, 'target': 30}, {'source': 23, 'target': 30}, {'source': 31, 'target': 38}, {'source': 39, 'target': 38}, {'source': 40, 'target': 38}, {'source': 41, 'target': 38}, {'source': 19, 'target': 38}, {'source': 42, 'target': 38}, {'source': 43, 'target': 38}, {'source': 45, 'target': 44}, {'source': 22, 'target': 44}, {'source': 16, 'target': 44}, {'source': 46, 'target': 44}, {'source': 48, 'target': 47}, {'source': 16, 'target': 47}, {'source': 49, 'target': 47}, {'source': 50, 'target': 47}, {'source': 51, 'target': 47}, {'source': 53, 'target': 52}, {'source': 54, 'target': 52}, {'source': 49, 'target': 52}, {'source': 55, 'target': 52}, {'source': 57, 'target': 56}, {'source': 58, 'target': 56}, {'source': 46, 'target': 56}, {'source': 26, 'target': 56}, {'source': 59, 'target': 56}, {'source': 60, 'target': 56}, {'source': 26, 'target': 61}, {'source': 62, 'target': 61}, {'source': 57, 'target': 61}, {'source': 63, 'target': 61}, {'source': 64, 'target': 61}, {'source': 65, 'target': 61}, {'source': 57, 'target': 66}, {'source': 67, 'target': 66}, {'source': 26, 'target': 66}, {'source': 69, 'target': 68}, {'source': 70, 'target': 68}, {'source': 71, 'target': 68}, {'source': 26, 'target': 68}, {'source': 57, 'target': 72}, {'source': 73, 'target': 72}, {'source': 10, 'target': 72}, {'source': 75, 'target': 74}, {'source': 5, 'target': 74}, {'source': 76, 'target': 74}, {'source': 77, 'target': 74}, {'source': 79, 'target': 78}, {'source': 59, 'target': 78}, {'source': 80, 'target': 78}, {'source': 40, 'target': 78}, {'source': 48, 'target': 81}, {'source': 67, 'target': 81}, {'source': 77, 'target': 81}, {'source': 83, 'target': 82}, {'source': 77, 'target': 82}, {'source': 84, 'target': 82}, {'source': 86, 'target': 85}, {'source': 87, 'target': 85}, {'source': 5, 'target': 85}, {'source': 88, 'target': 85}, {'source': 57, 'target': 89}, {'source': 90, 'target': 89}, {'source': 91, 'target': 89}, {'source': 2, 'target': 89}, {'source': 57, 'target': 92}, {'source': 93, 'target': 92}, {'source': 94, 'target': 92}, {'source': 95, 'target': 92}, {'source': 97, 'target': 96}, {'source': 98, 'target': 96}, {'source': 99, 'target': 96}, {'source': 2, 'target': 96}, {'source': 100, 'target': 96}, {'source': 102, 'target': 101}, {'source': 103, 'target': 101}, {'source': 104, 'target': 101}, {'source': 100, 'target': 101}, {'source': 105, 'target': 101}, {'source': 106, 'target': 101}, {'source': 107, 'target': 101}, {'source': 103, 'target': 108}, {'source': 100, 'target': 108}, {'source': 54, 'target': 108}, {'source': 109, 'target': 108}, {'source': 111, 'target': 110}, {'source': 32, 'target': 110}, {'source': 112, 'target': 110}, {'source': 55, 'target': 110}, {'source': 57, 'target': 110}, {'source': 113, 'target': 110}, {'source': 114, 'target': 110}, {'source': 115, 'target': 110}, {'source': 111, 'target': 116}, {'source': 117, 'target': 116}, {'source': 118, 'target': 116}, {'source': 119, 'target': 116}, {'source': 20, 'target': 116}, {'source': 121, 'target': 120}, {'source': 122, 'target': 120}, {'source': 14, 'target': 120}, {'source': 22, 'target': 120}, {'source': 57, 'target': 123}, {'source': 124, 'target': 123}, {'source': 115, 'target': 123}, {'source': 20, 'target': 123}, {'source': 125, 'target': 123}, {'source': 45, 'target': 126}, {'source': 125, 'target': 126}, {'source': 127, 'target': 126}, {'source': 79, 'target': 126}, {'source': 45, 'target': 128}, {'source': 57, 'target': 128}, {'source': 122, 'target': 129}, {'source': 22, 'target': 129}, {'source': 5, 'target': 130}, {'source': 131, 'target': 130}, {'source': 22, 'target': 130}, {'source': 48, 'target': 132}, {'source': 119, 'target': 132}, {'source': 134, 'target': 133}, {'source': 57, 'target': 133}, {'source': 127, 'target': 133}, {'source': 57, 'target': 135}, {'source': 57, 'target': 136}, {'source': 137, 'target': 136}, {'source': 65, 'target': 136}, {'source': 138, 'target': 136}, {'source': 125, 'target': 136}, {'source': 139, 'target': 136}], 'nodes': [{'title': 'The Matrix', 'label': 'movie'}, {'title': 'Emil Eifrem', 'label': 'actor'}, {'title': 'Hugo Weaving', 'label': 'actor'}, {'title': 'Laurence Fishburne', 'label': 'actor'}, {'title': 'Carrie-Anne Moss', 'label': 'actor'}, {'title': 'Keanu Reeves', 'label': 'actor'}, {'title': 'The Matrix Reloaded', 'label': 'movie'}, {'title': 'The Matrix Revolutions', 'label': 'movie'}, {'title': \"The Devil's Advocate\", 'label': 'movie'}, {'title': 'Al Pacino', 'label': 'actor'}, {'title': 'Charlize Theron', 'label': 'actor'}, {'title': 'A Few Good Men', 'label': 'movie'}, {'title': 'James Marshall', 'label': 'actor'}, {'title': 'Kevin Pollak', 'label': 'actor'}, {'title': 'J.T. Walsh', 'label': 'actor'}, {'title': 'Aaron Sorkin', 'label': 'actor'}, {'title': 'Cuba Gooding Jr.', 'label': 'actor'}, {'title': 'Christopher Guest', 'label': 'actor'}, {'title': 'Noah Wyle', 'label': 'actor'}, {'title': 'Kiefer Sutherland', 'label': 'actor'}, {'title': 'Kevin Bacon', 'label': 'actor'}, {'title': 'Demi Moore', 'label': 'actor'}, {'title': 'Jack Nicholson', 'label': 'actor'}, {'title': 'Tom Cruise', 'label': 'actor'}, {'title': 'Top Gun', 'label': 'movie'}, {'title': 'Val Kilmer', 'label': 'actor'}, {'title': 'Meg Ryan', 'label': 'actor'}, {'title': 'Tom Skerritt', 'label': 'actor'}, {'title': 'Kelly McGillis', 'label': 'actor'}, {'title': 'Anthony Edwards', 'label': 'actor'}, {'title': 'Jerry Maguire', 'label': 'movie'}, {'title': \"Jerry O'Connell\", 'label': 'actor'}, {'title': 'Bonnie Hunt', 'label': 'actor'}, {'title': 'Jay Mohr', 'label': 'actor'}, {'title': 'Jonathan Lipnicki', 'label': 'actor'}, {'title': 'Renee Zellweger', 'label': 'actor'}, {'title': 'Kelly Preston', 'label': 'actor'}, {'title': 'Regina King', 'label': 'actor'}, {'title': 'Stand By Me', 'label': 'movie'}, {'title': 'River Phoenix', 'label': 'actor'}, {'title': 'Marshall Bell', 'label': 'actor'}, {'title': 'Wil Wheaton', 'label': 'actor'}, {'title': 'John Cusack', 'label': 'actor'}, {'title': 'Corey Feldman', 'label': 'actor'}, {'title': 'As Good as It Gets', 'label': 'movie'}, {'title': 'Helen Hunt', 'label': 'actor'}, {'title': 'Greg Kinnear', 'label': 'actor'}, {'title': 'What Dreams May Come', 'label': 'movie'}, {'title': 'Robin Williams', 'label': 'actor'}, {'title': 'Max von Sydow', 'label': 'actor'}, {'title': 'Werner Herzog', 'label': 'actor'}, {'title': 'Annabella Sciorra', 'label': 'actor'}, {'title': 'Snow Falling on Cedars', 'label': 'movie'}, {'title': 'Ethan Hawke', 'label': 'actor'}, {'title': 'Rick Yune', 'label': 'actor'}, {'title': 'James Cromwell', 'label': 'actor'}, {'title': \"You've Got Mail\", 'label': 'movie'}, {'title': 'Tom Hanks', 'label': 'actor'}, {'title': 'Parker Posey', 'label': 'actor'}, {'title': 'Steve Zahn', 'label': 'actor'}, {'title': 'Dave Chappelle', 'label': 'actor'}, {'title': 'Sleepless in Seattle', 'label': 'movie'}, {'title': 'Victor Garber', 'label': 'actor'}, {'title': 'Bill Pullman', 'label': 'actor'}, {'title': 'Rita Wilson', 'label': 'actor'}, {'title': \"Rosie O'Donnell\", 'label': 'actor'}, {'title': 'Joe Versus the Volcano', 'label': 'movie'}, {'title': 'Nathan Lane', 'label': 'actor'}, {'title': 'When Harry Met Sally', 'label': 'movie'}, {'title': 'Carrie Fisher', 'label': 'actor'}, {'title': 'Billy Crystal', 'label': 'actor'}, {'title': 'Bruno Kirby', 'label': 'actor'}, {'title': 'That Thing You Do', 'label': 'movie'}, {'title': 'Liv Tyler', 'label': 'actor'}, {'title': 'The Replacements', 'label': 'movie'}, {'title': 'Brooke Langton', 'label': 'actor'}, {'title': 'Orlando Jones', 'label': 'actor'}, {'title': 'Gene Hackman', 'label': 'actor'}, {'title': 'RescueDawn', 'label': 'movie'}, {'title': 'Zach Grenier', 'label': 'actor'}, {'title': 'Christian Bale', 'label': 'actor'}, {'title': 'The Birdcage', 'label': 'movie'}, {'title': 'Unforgiven', 'label': 'movie'}, {'title': 'Clint Eastwood', 'label': 'actor'}, {'title': 'Richard Harris', 'label': 'actor'}, {'title': 'Johnny Mnemonic', 'label': 'movie'}, {'title': 'Ice-T', 'label': 'actor'}, {'title': 'Dina Meyer', 'label': 'actor'}, {'title': 'Takeshi Kitano', 'label': 'actor'}, {'title': 'Cloud Atlas', 'label': 'movie'}, {'title': 'Jim Broadbent', 'label': 'actor'}, {'title': 'Halle Berry', 'label': 'actor'}, {'title': 'The Da Vinci Code', 'label': 'movie'}, {'title': 'Ian McKellen', 'label': 'actor'}, {'title': 'Audrey Tautou', 'label': 'actor'}, {'title': 'Paul Bettany', 'label': 'actor'}, {'title': 'V for Vendetta', 'label': 'movie'}, {'title': 'John Hurt', 'label': 'actor'}, {'title': 'Stephen Rea', 'label': 'actor'}, {'title': 'Natalie Portman', 'label': 'actor'}, {'title': 'Ben Miles', 'label': 'actor'}, {'title': 'Speed Racer', 'label': 'movie'}, {'title': 'Emile Hirsch', 'label': 'actor'}, {'title': 'Rain', 'label': 'actor'}, {'title': 'Christina Ricci', 'label': 'actor'}, {'title': 'Susan Sarandon', 'label': 'actor'}, {'title': 'John Goodman', 'label': 'actor'}, {'title': 'Matthew Fox', 'label': 'actor'}, {'title': 'Ninja Assassin', 'label': 'movie'}, {'title': 'Naomie Harris', 'label': 'actor'}, {'title': 'The Green Mile', 'label': 'movie'}, {'title': 'Sam Rockwell', 'label': 'actor'}, {'title': 'Patricia Clarkson', 'label': 'actor'}, {'title': 'Michael Clarke Duncan', 'label': 'actor'}, {'title': 'David Morse', 'label': 'actor'}, {'title': 'Gary Sinise', 'label': 'actor'}, {'title': 'Frost/Nixon', 'label': 'movie'}, {'title': 'Michael Sheen', 'label': 'actor'}, {'title': 'Frank Langella', 'label': 'actor'}, {'title': 'Oliver Platt', 'label': 'actor'}, {'title': 'Hoffa', 'label': 'movie'}, {'title': 'John C. Reilly', 'label': 'actor'}, {'title': 'Danny DeVito', 'label': 'actor'}, {'title': 'Apollo 13', 'label': 'movie'}, {'title': 'Ed Harris', 'label': 'actor'}, {'title': 'Bill Paxton', 'label': 'actor'}, {'title': 'Twister', 'label': 'movie'}, {'title': 'Philip Seymour Hoffman', 'label': 'actor'}, {'title': 'Cast Away', 'label': 'movie'}, {'title': \"One Flew Over the Cuckoo's Nest\", 'label': 'movie'}, {'title': \"Something's Gotta Give\", 'label': 'movie'}, {'title': 'Diane Keaton', 'label': 'actor'}, {'title': 'Bicentennial Man', 'label': 'movie'}, {'title': \"Charlie Wilson's War\", 'label': 'movie'}, {'title': 'Julia Roberts', 'label': 'actor'}, {'title': 'The Polar Express', 'label': 'movie'}, {'title': 'A League of Their Own', 'label': 'movie'}, {'title': 'Madonna', 'label': 'actor'}, {'title': 'Geena Davis', 'label': 'actor'}, {'title': 'Lori Petty', 'label': 'actor'}]}\n"
     ]
    }
   ],
   "source": [
    "with session.session() as sess:\n",
    "    sess.read_transaction(print_friends_of, cmd)"
   ]
  },
  {
   "cell_type": "code",
   "execution_count": null,
   "metadata": {},
   "outputs": [],
   "source": [
    "with session.session() as sess:\n",
    "    sess.read_transaction(print_friends_of, \"Alice\")"
   ]
  }
 ],
 "metadata": {
  "kernelspec": {
   "display_name": "Python 3",
   "language": "python",
   "name": "python3"
  },
  "language_info": {
   "codemirror_mode": {
    "name": "ipython",
    "version": 3
   },
   "file_extension": ".py",
   "mimetype": "text/x-python",
   "name": "python",
   "nbconvert_exporter": "python",
   "pygments_lexer": "ipython3",
   "version": "3.5.5"
  }
 },
 "nbformat": 4,
 "nbformat_minor": 2
}
